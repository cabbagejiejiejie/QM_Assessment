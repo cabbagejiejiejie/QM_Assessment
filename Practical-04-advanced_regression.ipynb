{
 "cells": [
  {
   "cell_type": "markdown",
   "metadata": {},
   "source": [
    "<div style=\"float:left\">\n",
    "            <h1 style=\"width:450px\">CASA0007 Practical 4: Advanced Regression</h1>\n",
    "</div>\n",
    "<div style=\"float:right\"><img width=\"100\" src=\"https://github.com/jreades/i2p/raw/master/img/casa_logo.jpg\" /></div>"
   ]
  },
  {
   "cell_type": "markdown",
   "metadata": {},
   "source": [
    "Welcome!\n",
    "\n",
    "In this practical, we will learn different techniques of applying linear and logistic regression:\n",
    "\n",
    "- Using VIF to deal with multicollinearity\n",
    "- Building and interpreting a linear regression model\n",
    "- Building and interpreting a logistic regression model\n",
    "\n",
    "This week we will again be working with Python, using the packages of **pandas**, **scikit-learn**, and [**statsmodels**](https://www.statsmodels.org/stable/index.html). \n",
    "\n",
    "**statsmodel** is a Python module that provides classes and functions for the estimation of many different statistical models, as well as for conducting statistical tests, and statistical data exploration. It provides a nice summary function for linear regression.\n",
    "\n",
    "Let's first import the basic libraries we will need. **Run the script below to get started.**"
   ]
  },
  {
   "cell_type": "code",
   "execution_count": 4,
   "metadata": {},
   "outputs": [],
   "source": [
    "import pandas as pd\n",
    "from sklearn.linear_model import LinearRegression\n",
    "import statsmodels\n",
    "import statsmodels.api as sm\n",
    "\n",
    "import numpy as np\n",
    "\n",
    "import sklearn\n",
    "from sklearn.linear_model import LogisticRegression\n",
    "from sklearn.metrics import confusion_matrix\n",
    "\n",
    "import matplotlib.pyplot as plt\n",
    "import seaborn as sn\n",
    "\n",
    "pd.set_option('display.max_rows', 300) # specifies number of rows to show\n",
    "pd.options.display.float_format = '{:40,.4f}'.format # specifies default number format to 4 decimal places\n",
    "plt.style.use('ggplot') # specifies that graphs should use ggplot styling\n",
    "%matplotlib inline"
   ]
  },
  {
   "cell_type": "code",
   "execution_count": 5,
   "metadata": {},
   "outputs": [
    {
     "name": "stdout",
     "output_type": "stream",
     "text": [
      "statsmodels version:  0.13.2\n",
      "pandas version:  1.4.3\n"
     ]
    }
   ],
   "source": [
    "import statsmodels\n",
    "print(\"statsmodels version: \", statsmodels.__version__)\n",
    "print(\"pandas version: \", pd.__version__)"
   ]
  },
  {
   "cell_type": "markdown",
   "metadata": {},
   "source": [
    "# Data description and pre-processing"
   ]
  },
  {
   "cell_type": "markdown",
   "metadata": {},
   "source": [
    "The dataset you will use relates to daily counts of rented bicycles from the bicycle rental company Capital-Bikeshare in Washington D.C, along with weather and seasonal information. \n",
    "\n",
    "The goal here is to predict how many bikes will be rented depending on the weather and the day. The original data can be downloaded from the [UCI Machine Learning Repository](http://archive.ics.uci.edu/ml/datasets/Bike+Sharing+Dataset).\n",
    "\n",
    "The dataset used here has been slightly processed by Christoph Molnar using [the R-script](https://github.com/christophM/interpretable-ml-book/blob/master/R/get-bike-sharing-dataset.R). Here, the dataset is provided as a csv file on Github.\n",
    "\n",
    "Here is a list of the variables in the dataset:\n",
    "\n",
    "- Count of bicycles including both casual and registered users. The count is used as the response in the regression task.\n",
    "- Indicator of the season, either spring, summer, fall or winter.\n",
    "- Indicator whether the day was a holiday or not.\n",
    "- The year, either 2011 or 2012.\n",
    "- Number of days since the January 1st, 2011 (the first day in the dataset). This predictor was introduced to take account of the trend over time.\n",
    "- Indicator whether the day was a working day or weekend.\n",
    "- The weather situation on that day. One of:\n",
    "  - **'GOOD'**: clear, few clouds, partly cloudy, cloudy\n",
    "  - **'MISTY'**: mist + clouds, mist + broken clouds, mist + few clouds, mist\n",
    "  - **'RAIN/SNOW/STORM'**: light snow, light rain + thunderstorm + scattered clouds, light rain + scattered clouds, heavy rain + ice pallets + thunderstorm + mist, snow + mist\n",
    "- Temperature in degrees Celcius.\n",
    "- Relative humidity in percent (0 to 100).\n",
    "- Wind speed in km/h.\n",
    "\n",
    "We import the bicycle rental dataset as a Pandas dataframe (call it `bike_rental`). Then, we inspect the data, calculate summary statistics on all attributes, and generate simple plots of pairs of attributes."
   ]
  },
  {
   "cell_type": "code",
   "execution_count": 6,
   "metadata": {},
   "outputs": [],
   "source": [
    "bike_rental = pd.read_csv('https://github.com/huanfachen/QM_2023/raw/main/data/daily_count_rent_bike.csv')"
   ]
  },
  {
   "cell_type": "code",
   "execution_count": 7,
   "metadata": {},
   "outputs": [
    {
     "name": "stdout",
     "output_type": "stream",
     "text": [
      "<class 'pandas.core.frame.DataFrame'>\n",
      "RangeIndex: 731 entries, 0 to 730\n",
      "Data columns (total 12 columns):\n",
      " #   Column           Non-Null Count  Dtype  \n",
      "---  ------           --------------  -----  \n",
      " 0   cnt              731 non-null    int64  \n",
      " 1   season           731 non-null    object \n",
      " 2   yr               731 non-null    int64  \n",
      " 3   mnth             731 non-null    object \n",
      " 4   holiday          731 non-null    object \n",
      " 5   weekday          731 non-null    object \n",
      " 6   workingday       731 non-null    object \n",
      " 7   weathersit       731 non-null    object \n",
      " 8   temp             731 non-null    float64\n",
      " 9   hum              731 non-null    float64\n",
      " 10  windspeed        731 non-null    float64\n",
      " 11  days_since_2011  731 non-null    int64  \n",
      "dtypes: float64(3), int64(3), object(6)\n",
      "memory usage: 68.7+ KB\n"
     ]
    }
   ],
   "source": [
    "bike_rental.info()"
   ]
  },
  {
   "cell_type": "code",
   "execution_count": 8,
   "metadata": {},
   "outputs": [
    {
     "data": {
      "text/html": [
       "<div>\n",
       "<style scoped>\n",
       "    .dataframe tbody tr th:only-of-type {\n",
       "        vertical-align: middle;\n",
       "    }\n",
       "\n",
       "    .dataframe tbody tr th {\n",
       "        vertical-align: top;\n",
       "    }\n",
       "\n",
       "    .dataframe thead th {\n",
       "        text-align: right;\n",
       "    }\n",
       "</style>\n",
       "<table border=\"1\" class=\"dataframe\">\n",
       "  <thead>\n",
       "    <tr style=\"text-align: right;\">\n",
       "      <th></th>\n",
       "      <th>cnt</th>\n",
       "      <th>season</th>\n",
       "      <th>yr</th>\n",
       "      <th>mnth</th>\n",
       "      <th>holiday</th>\n",
       "      <th>weekday</th>\n",
       "      <th>workingday</th>\n",
       "      <th>weathersit</th>\n",
       "      <th>temp</th>\n",
       "      <th>hum</th>\n",
       "      <th>windspeed</th>\n",
       "      <th>days_since_2011</th>\n",
       "    </tr>\n",
       "  </thead>\n",
       "  <tbody>\n",
       "    <tr>\n",
       "      <th>0</th>\n",
       "      <td>985</td>\n",
       "      <td>SPRING</td>\n",
       "      <td>2011</td>\n",
       "      <td>JAN</td>\n",
       "      <td>NO HOLIDAY</td>\n",
       "      <td>SAT</td>\n",
       "      <td>NO WORKING DAY</td>\n",
       "      <td>MISTY</td>\n",
       "      <td>8.1758</td>\n",
       "      <td>80.5833</td>\n",
       "      <td>10.7499</td>\n",
       "      <td>0</td>\n",
       "    </tr>\n",
       "    <tr>\n",
       "      <th>1</th>\n",
       "      <td>801</td>\n",
       "      <td>SPRING</td>\n",
       "      <td>2011</td>\n",
       "      <td>JAN</td>\n",
       "      <td>NO HOLIDAY</td>\n",
       "      <td>SUN</td>\n",
       "      <td>NO WORKING DAY</td>\n",
       "      <td>MISTY</td>\n",
       "      <td>9.0835</td>\n",
       "      <td>69.6087</td>\n",
       "      <td>16.6521</td>\n",
       "      <td>1</td>\n",
       "    </tr>\n",
       "    <tr>\n",
       "      <th>2</th>\n",
       "      <td>1349</td>\n",
       "      <td>SPRING</td>\n",
       "      <td>2011</td>\n",
       "      <td>JAN</td>\n",
       "      <td>NO HOLIDAY</td>\n",
       "      <td>MON</td>\n",
       "      <td>WORKING DAY</td>\n",
       "      <td>GOOD</td>\n",
       "      <td>1.2291</td>\n",
       "      <td>43.7273</td>\n",
       "      <td>16.6367</td>\n",
       "      <td>2</td>\n",
       "    </tr>\n",
       "    <tr>\n",
       "      <th>3</th>\n",
       "      <td>1562</td>\n",
       "      <td>SPRING</td>\n",
       "      <td>2011</td>\n",
       "      <td>JAN</td>\n",
       "      <td>NO HOLIDAY</td>\n",
       "      <td>TUE</td>\n",
       "      <td>WORKING DAY</td>\n",
       "      <td>GOOD</td>\n",
       "      <td>1.4000</td>\n",
       "      <td>59.0435</td>\n",
       "      <td>10.7398</td>\n",
       "      <td>3</td>\n",
       "    </tr>\n",
       "    <tr>\n",
       "      <th>4</th>\n",
       "      <td>1600</td>\n",
       "      <td>SPRING</td>\n",
       "      <td>2011</td>\n",
       "      <td>JAN</td>\n",
       "      <td>NO HOLIDAY</td>\n",
       "      <td>WED</td>\n",
       "      <td>WORKING DAY</td>\n",
       "      <td>GOOD</td>\n",
       "      <td>2.6670</td>\n",
       "      <td>43.6957</td>\n",
       "      <td>12.5223</td>\n",
       "      <td>4</td>\n",
       "    </tr>\n",
       "  </tbody>\n",
       "</table>\n",
       "</div>"
      ],
      "text/plain": [
       "    cnt  season    yr mnth     holiday weekday      workingday weathersit  \\\n",
       "0   985  SPRING  2011  JAN  NO HOLIDAY     SAT  NO WORKING DAY      MISTY   \n",
       "1   801  SPRING  2011  JAN  NO HOLIDAY     SUN  NO WORKING DAY      MISTY   \n",
       "2  1349  SPRING  2011  JAN  NO HOLIDAY     MON     WORKING DAY       GOOD   \n",
       "3  1562  SPRING  2011  JAN  NO HOLIDAY     TUE     WORKING DAY       GOOD   \n",
       "4  1600  SPRING  2011  JAN  NO HOLIDAY     WED     WORKING DAY       GOOD   \n",
       "\n",
       "                                      temp  \\\n",
       "0                                   8.1758   \n",
       "1                                   9.0835   \n",
       "2                                   1.2291   \n",
       "3                                   1.4000   \n",
       "4                                   2.6670   \n",
       "\n",
       "                                       hum  \\\n",
       "0                                  80.5833   \n",
       "1                                  69.6087   \n",
       "2                                  43.7273   \n",
       "3                                  59.0435   \n",
       "4                                  43.6957   \n",
       "\n",
       "                                 windspeed  days_since_2011  \n",
       "0                                  10.7499                0  \n",
       "1                                  16.6521                1  \n",
       "2                                  16.6367                2  \n",
       "3                                  10.7398                3  \n",
       "4                                  12.5223                4  "
      ]
     },
     "execution_count": 8,
     "metadata": {},
     "output_type": "execute_result"
    }
   ],
   "source": [
    "bike_rental.head()"
   ]
  },
  {
   "cell_type": "markdown",
   "metadata": {},
   "source": [
    "In `bike_rental`, there are two data types\n",
    "- Categorical (aka `object`)\n",
    "- Numerical (including `int64` and `float64`)\n",
    "\n",
    "Before undertaking regression, several steps should be done, which include:\n",
    "- Converting categorical variables into dummy variables\n",
    "- Dealing with multicollinearity (and removing some variables if necessary)"
   ]
  },
  {
   "cell_type": "markdown",
   "metadata": {},
   "source": [
    "## Encoding of categorical variables\n",
    "First, we need to convert categorical variables into **dummy variables** (or indicator variable), using `One-Hot Encoding`. For example, the `season` variable should be converted into four dummy variables after one-hot encoding (below is an example of five records):\n",
    "\n",
    "|season||season_SPRING|season_SUMMER|season_AUTUMN|season_WINTER|\n",
    "| ---- | --- | --- | --- | --- | --- |\n",
    "|SPRING| ---> |1|0|0|0|\n",
    "|SUMMER| ---> |0|1|0|0|\n",
    "|SRPING| ---> |1|0|0|0|\n",
    "|AUTUMN| ---> |0|0|1|0|\n",
    "|WINTER| ---> |0|0|0|1|\n",
    "\n",
    "\n",
    "We will use the ```get_dummies``` function for one-hot coding. The documentation of this function is [here](https://pandas.pydata.org/docs/reference/api/pandas.get_dummies.html)."
   ]
  },
  {
   "cell_type": "code",
   "execution_count": 9,
   "metadata": {},
   "outputs": [],
   "source": [
    "bike_rental_numeric = pd.get_dummies(bike_rental, dtype=int)"
   ]
  },
  {
   "cell_type": "markdown",
   "metadata": {},
   "source": [
    "Then we check the variabbles after using ```get_dummies```. Each categorical variable has been replaced by **K** dummy variables, where K represents the number of categories in the original variable."
   ]
  },
  {
   "cell_type": "code",
   "execution_count": 10,
   "metadata": {},
   "outputs": [
    {
     "name": "stdout",
     "output_type": "stream",
     "text": [
      "<class 'pandas.core.frame.DataFrame'>\n",
      "RangeIndex: 731 entries, 0 to 730\n",
      "Data columns (total 36 columns):\n",
      " #   Column                      Non-Null Count  Dtype  \n",
      "---  ------                      --------------  -----  \n",
      " 0   cnt                         731 non-null    int64  \n",
      " 1   yr                          731 non-null    int64  \n",
      " 2   temp                        731 non-null    float64\n",
      " 3   hum                         731 non-null    float64\n",
      " 4   windspeed                   731 non-null    float64\n",
      " 5   days_since_2011             731 non-null    int64  \n",
      " 6   season_FALL                 731 non-null    int64  \n",
      " 7   season_SPRING               731 non-null    int64  \n",
      " 8   season_SUMMER               731 non-null    int64  \n",
      " 9   season_WINTER               731 non-null    int64  \n",
      " 10  mnth_APR                    731 non-null    int64  \n",
      " 11  mnth_AUG                    731 non-null    int64  \n",
      " 12  mnth_DEZ                    731 non-null    int64  \n",
      " 13  mnth_FEB                    731 non-null    int64  \n",
      " 14  mnth_JAN                    731 non-null    int64  \n",
      " 15  mnth_JUL                    731 non-null    int64  \n",
      " 16  mnth_JUN                    731 non-null    int64  \n",
      " 17  mnth_MAR                    731 non-null    int64  \n",
      " 18  mnth_MAY                    731 non-null    int64  \n",
      " 19  mnth_NOV                    731 non-null    int64  \n",
      " 20  mnth_OKT                    731 non-null    int64  \n",
      " 21  mnth_SEP                    731 non-null    int64  \n",
      " 22  holiday_HOLIDAY             731 non-null    int64  \n",
      " 23  holiday_NO HOLIDAY          731 non-null    int64  \n",
      " 24  weekday_FRI                 731 non-null    int64  \n",
      " 25  weekday_MON                 731 non-null    int64  \n",
      " 26  weekday_SAT                 731 non-null    int64  \n",
      " 27  weekday_SUN                 731 non-null    int64  \n",
      " 28  weekday_THU                 731 non-null    int64  \n",
      " 29  weekday_TUE                 731 non-null    int64  \n",
      " 30  weekday_WED                 731 non-null    int64  \n",
      " 31  workingday_NO WORKING DAY   731 non-null    int64  \n",
      " 32  workingday_WORKING DAY      731 non-null    int64  \n",
      " 33  weathersit_GOOD             731 non-null    int64  \n",
      " 34  weathersit_MISTY            731 non-null    int64  \n",
      " 35  weathersit_RAIN/SNOW/STORM  731 non-null    int64  \n",
      "dtypes: float64(3), int64(33)\n",
      "memory usage: 205.7 KB\n"
     ]
    }
   ],
   "source": [
    "# check out the new dataFrame\n",
    "bike_rental_numeric.info()"
   ]
  },
  {
   "cell_type": "markdown",
   "metadata": {},
   "source": [
    "Remember that, a cateogircal variable of K categories or levels, usually enters a regression as a sequence of K-1 dummy variables. The level that is left out becomes the **reference level**, and this level is important for interpreting the regression model.\n",
    "\n",
    "Here we manually choose the reference level for each categorical variable and exclude them from the DataFrame. You can change the reference levels if you want."
   ]
  },
  {
   "cell_type": "code",
   "execution_count": 11,
   "metadata": {},
   "outputs": [
    {
     "name": "stdout",
     "output_type": "stream",
     "text": [
      "<class 'pandas.core.frame.DataFrame'>\n",
      "RangeIndex: 731 entries, 0 to 730\n",
      "Data columns (total 30 columns):\n",
      " #   Column                      Non-Null Count  Dtype  \n",
      "---  ------                      --------------  -----  \n",
      " 0   cnt                         731 non-null    int64  \n",
      " 1   yr                          731 non-null    int64  \n",
      " 2   temp                        731 non-null    float64\n",
      " 3   hum                         731 non-null    float64\n",
      " 4   windspeed                   731 non-null    float64\n",
      " 5   days_since_2011             731 non-null    int64  \n",
      " 6   season_FALL                 731 non-null    int64  \n",
      " 7   season_SUMMER               731 non-null    int64  \n",
      " 8   season_WINTER               731 non-null    int64  \n",
      " 9   mnth_APR                    731 non-null    int64  \n",
      " 10  mnth_AUG                    731 non-null    int64  \n",
      " 11  mnth_DEZ                    731 non-null    int64  \n",
      " 12  mnth_FEB                    731 non-null    int64  \n",
      " 13  mnth_JUL                    731 non-null    int64  \n",
      " 14  mnth_JUN                    731 non-null    int64  \n",
      " 15  mnth_MAR                    731 non-null    int64  \n",
      " 16  mnth_MAY                    731 non-null    int64  \n",
      " 17  mnth_NOV                    731 non-null    int64  \n",
      " 18  mnth_OKT                    731 non-null    int64  \n",
      " 19  mnth_SEP                    731 non-null    int64  \n",
      " 20  holiday_HOLIDAY             731 non-null    int64  \n",
      " 21  weekday_FRI                 731 non-null    int64  \n",
      " 22  weekday_SAT                 731 non-null    int64  \n",
      " 23  weekday_SUN                 731 non-null    int64  \n",
      " 24  weekday_THU                 731 non-null    int64  \n",
      " 25  weekday_TUE                 731 non-null    int64  \n",
      " 26  weekday_WED                 731 non-null    int64  \n",
      " 27  workingday_NO WORKING DAY   731 non-null    int64  \n",
      " 28  weathersit_MISTY            731 non-null    int64  \n",
      " 29  weathersit_RAIN/SNOW/STORM  731 non-null    int64  \n",
      "dtypes: float64(3), int64(27)\n",
      "memory usage: 171.5 KB\n"
     ]
    }
   ],
   "source": [
    "bike_rental_final = bike_rental_numeric.drop(['season_SPRING', 'mnth_JAN', 'holiday_NO HOLIDAY', 'weekday_MON', 'workingday_WORKING DAY', 'weathersit_GOOD'], axis=1)\n",
    "\n",
    "# double check the result\n",
    "bike_rental_final.info()"
   ]
  },
  {
   "cell_type": "markdown",
   "metadata": {},
   "source": [
    "## Checking the correlation between variables\n",
    "\n",
    "Before modelling, we always want to know the correlation between variables before building models. We will use the ```dataframe.corr()``` function to generate the correlation matrix and plot it.\n",
    "\n",
    "You can check the collinearity between attributes using a correlation matrix as below. Here is a question for you:\n",
    "\n",
    "- **What can you say about this plot? For example, which pair of variables are highly correlated, and can you explain it?**"
   ]
  },
  {
   "cell_type": "code",
   "execution_count": 12,
   "metadata": {},
   "outputs": [
    {
     "data": {
      "text/plain": [
       "Text(0.5, 1.0, 'Correlation Matrix')"
      ]
     },
     "execution_count": 12,
     "metadata": {},
     "output_type": "execute_result"
    },
    {
     "data": {
      "image/png": "[encoded data removed]",
      "text/plain": [
       "<Figure size 1368x1080 with 2 Axes>"
      ]
     },
     "metadata": {
      "needs_background": "light"
     },
     "output_type": "display_data"
    }
   ],
   "source": [
    "df = bike_rental_final\n",
    "plt.rcParams[\"axes.grid\"] = False\n",
    "f = plt.figure(figsize=(19, 15))\n",
    "plt.matshow(df.corr(), fignum=f.number)\n",
    "plt.xticks(range(df.shape[1]), df.columns, fontsize=14, rotation=90)\n",
    "plt.yticks(range(df.shape[1]), df.columns, fontsize=14)\n",
    "cb = plt.colorbar()\n",
    "cb.ax.tick_params(labelsize=14)\n",
    "plt.title('Correlation Matrix', fontsize=16)"
   ]
  },
  {
   "cell_type": "markdown",
   "metadata": {},
   "source": [
    "# Predicting bike rental using seasons"
   ]
  },
  {
   "cell_type": "markdown",
   "metadata": {},
   "source": [
    "Before we introduce VIF and build a comprehensive regression model, we will firstly develop a smaller model that predicts bike rental using only **season** variable. This example will demonstrate the consequence of multicollinearity."
   ]
  },
  {
   "cell_type": "markdown",
   "metadata": {},
   "source": [
    "One of the assumption underlying multiple regression is that **there is no multicollinearity** among the independent or explanatory variables. Informally, multicollinearity refers to the situation where one explanatory variable can be linearly predicted from others with a high level of accuracy. One example is that if we use all four season dummy variables for regression, there is multicolliearity between them. This is because:\n",
    "\n",
    "`season_SPRING + season_SUMMER + season_FALL + season_WINTER = 1`\n",
    "\n",
    "In other words, if we know the value of `seasons_SUMMER`, `season_FALL`, and `season_WINTER`, then we know the value of `season_SPRING`. One of these four variable is redundant.\n",
    "\n",
    "What is the consequence of having multicollinearity between explanatory variables? We will demonstrate the consequence by building and comparing two regression models:\n",
    "\n",
    "- Model 1: using four season; (an example of invalid regression)\n",
    "- Model 2: using only three season variables, excluding 'season_SPRING';"
   ]
  },
  {
   "cell_type": "code",
   "execution_count": 13,
   "metadata": {},
   "outputs": [],
   "source": [
    "# subset the data\n",
    "bike_rental_seasons = bike_rental_numeric.loc[:,['cnt', 'season_SPRING', 'season_SUMMER', 'season_FALL', 'season_WINTER']]"
   ]
  },
  {
   "cell_type": "markdown",
   "metadata": {},
   "source": [
    "## Model 1: using four seasons (problematic model)"
   ]
  },
  {
   "cell_type": "markdown",
   "metadata": {},
   "source": [
    "Note that this is an example of PROBLEMATIC regression moddel, as it throws all season variables into the regression without variable selection (using VIF).\n",
    "\n",
    "We find out that the output of the codes below varies across computers - at least two different results (see below). This proves that the result is unreliable, isn't it?\n",
    "\n",
    "The lesson is: variable selection is an essential step before building regression models.\n",
    "\n",
    "<img src=\"https://raw.githubusercontent.com/huanfachen/QM_2023/main/img/two_outputs_regression_four_seasons.png\" alt=\"drawing\" width=\"800\"/>"
   ]
  },
  {
   "cell_type": "code",
   "execution_count": 14,
   "metadata": {},
   "outputs": [
    {
     "data": {
      "text/html": [
       "<table class=\"simpletable\">\n",
       "<caption>OLS Regression Results</caption>\n",
       "<tr>\n",
       "  <th>Dep. Variable:</th>           <td>cnt</td>       <th>  R-squared:         </th> <td>   0.347</td> \n",
       "</tr>\n",
       "<tr>\n",
       "  <th>Model:</th>                   <td>OLS</td>       <th>  Adj. R-squared:    </th> <td>   0.344</td> \n",
       "</tr>\n",
       "<tr>\n",
       "  <th>Method:</th>             <td>Least Squares</td>  <th>  F-statistic:       </th> <td>   128.8</td> \n",
       "</tr>\n",
       "<tr>\n",
       "  <th>Date:</th>             <td>Tue, 31 Oct 2023</td> <th>  Prob (F-statistic):</th> <td>6.72e-67</td> \n",
       "</tr>\n",
       "<tr>\n",
       "  <th>Time:</th>                 <td>14:52:58</td>     <th>  Log-Likelihood:    </th> <td> -6413.9</td> \n",
       "</tr>\n",
       "<tr>\n",
       "  <th>No. Observations:</th>      <td>   731</td>      <th>  AIC:               </th> <td>1.284e+04</td>\n",
       "</tr>\n",
       "<tr>\n",
       "  <th>Df Residuals:</th>          <td>   727</td>      <th>  BIC:               </th> <td>1.285e+04</td>\n",
       "</tr>\n",
       "<tr>\n",
       "  <th>Df Model:</th>              <td>     3</td>      <th>                     </th>     <td> </td>    \n",
       "</tr>\n",
       "<tr>\n",
       "  <th>Covariance Type:</th>      <td>nonrobust</td>    <th>                     </th>     <td> </td>    \n",
       "</tr>\n",
       "</table>\n",
       "<table class=\"simpletable\">\n",
       "<tr>\n",
       "        <td></td>           <th>coef</th>     <th>std err</th>      <th>t</th>      <th>P>|t|</th>  <th>[0.025</th>    <th>0.975]</th>  \n",
       "</tr>\n",
       "<tr>\n",
       "  <th>Intercept</th>     <td> 3593.7860</td> <td>   46.425</td> <td>   77.411</td> <td> 0.000</td> <td> 3502.643</td> <td> 3684.929</td>\n",
       "</tr>\n",
       "<tr>\n",
       "  <th>season_SPRING</th> <td> -989.6534</td> <td>  101.550</td> <td>   -9.746</td> <td> 0.000</td> <td>-1189.019</td> <td> -790.288</td>\n",
       "</tr>\n",
       "<tr>\n",
       "  <th>season_SUMMER</th> <td> 1398.5455</td> <td>  100.893</td> <td>   13.862</td> <td> 0.000</td> <td> 1200.470</td> <td> 1596.621</td>\n",
       "</tr>\n",
       "<tr>\n",
       "  <th>season_FALL</th>   <td> 2050.5171</td> <td>  100.043</td> <td>   20.496</td> <td> 0.000</td> <td> 1854.109</td> <td> 2246.925</td>\n",
       "</tr>\n",
       "<tr>\n",
       "  <th>season_WINTER</th> <td> 1134.3769</td> <td>  102.224</td> <td>   11.097</td> <td> 0.000</td> <td>  933.687</td> <td> 1335.067</td>\n",
       "</tr>\n",
       "</table>\n",
       "<table class=\"simpletable\">\n",
       "<tr>\n",
       "  <th>Omnibus:</th>       <td> 3.050</td> <th>  Durbin-Watson:     </th> <td>   0.469</td>\n",
       "</tr>\n",
       "<tr>\n",
       "  <th>Prob(Omnibus):</th> <td> 0.218</td> <th>  Jarque-Bera (JB):  </th> <td>   2.765</td>\n",
       "</tr>\n",
       "<tr>\n",
       "  <th>Skew:</th>          <td> 0.080</td> <th>  Prob(JB):          </th> <td>   0.251</td>\n",
       "</tr>\n",
       "<tr>\n",
       "  <th>Kurtosis:</th>      <td> 2.745</td> <th>  Cond. No.          </th> <td>1.77e+15</td>\n",
       "</tr>\n",
       "</table><br/><br/>Notes:<br/>[1] Standard Errors assume that the covariance matrix of the errors is correctly specified.<br/>[2] The smallest eigenvalue is 2.91e-28. This might indicate that there are<br/>strong multicollinearity problems or that the design matrix is singular."
      ],
      "text/plain": [
       "<class 'statsmodels.iolib.summary.Summary'>\n",
       "\"\"\"\n",
       "                            OLS Regression Results                            \n",
       "==============================================================================\n",
       "Dep. Variable:                    cnt   R-squared:                       0.347\n",
       "Model:                            OLS   Adj. R-squared:                  0.344\n",
       "Method:                 Least Squares   F-statistic:                     128.8\n",
       "Date:                Tue, 31 Oct 2023   Prob (F-statistic):           6.72e-67\n",
       "Time:                        14:52:58   Log-Likelihood:                -6413.9\n",
       "No. Observations:                 731   AIC:                         1.284e+04\n",
       "Df Residuals:                     727   BIC:                         1.285e+04\n",
       "Df Model:                           3                                         \n",
       "Covariance Type:            nonrobust                                         \n",
       "=================================================================================\n",
       "                    coef    std err          t      P>|t|      [0.025      0.975]\n",
       "---------------------------------------------------------------------------------\n",
       "Intercept      3593.7860     46.425     77.411      0.000    3502.643    3684.929\n",
       "season_SPRING  -989.6534    101.550     -9.746      0.000   -1189.019    -790.288\n",
       "season_SUMMER  1398.5455    100.893     13.862      0.000    1200.470    1596.621\n",
       "season_FALL    2050.5171    100.043     20.496      0.000    1854.109    2246.925\n",
       "season_WINTER  1134.3769    102.224     11.097      0.000     933.687    1335.067\n",
       "==============================================================================\n",
       "Omnibus:                        3.050   Durbin-Watson:                   0.469\n",
       "Prob(Omnibus):                  0.218   Jarque-Bera (JB):                2.765\n",
       "Skew:                           0.080   Prob(JB):                        0.251\n",
       "Kurtosis:                       2.745   Cond. No.                     1.77e+15\n",
       "==============================================================================\n",
       "\n",
       "Notes:\n",
       "[1] Standard Errors assume that the covariance matrix of the errors is correctly specified.\n",
       "[2] The smallest eigenvalue is 2.91e-28. This might indicate that there are\n",
       "strong multicollinearity problems or that the design matrix is singular.\n",
       "\"\"\""
      ]
     },
     "execution_count": 14,
     "metadata": {},
     "output_type": "execute_result"
    }
   ],
   "source": [
    "# build the model, using this equation to formalute the regression model\n",
    "# 'cnt ~ season_SPRING + season_SUMMER + season_FALL + season_WINTER'\n",
    "# the left-hand side is the y variable and right-hand side is the x variables\n",
    "\n",
    "model_cnt_seasons = sm.formula.ols('cnt ~ season_SPRING + season_SUMMER + season_FALL + season_WINTER', bike_rental_seasons).fit()\n",
    "model_cnt_seasons.summary()"
   ]
  },
  {
   "cell_type": "markdown",
   "metadata": {},
   "source": [
    "The condition number is calculated as 'ratio of largest to smallest eigenvalue of the exogeneous matrix' (which is a bit scary, but you don't need to understand this). \n",
    "\n",
    "Simply speaking, if you haven't selected the variables and you see a condition number greater than 1000, it indicates a strong multicollinearity between explanatory variables, and the model is NOT reliable or useful. In this case, please don't bother to interpret the model - simply re-select the variables and re-run the model."
   ]
  },
  {
   "cell_type": "markdown",
   "metadata": {},
   "source": [
    "[optional] This cell is **optional**.\n",
    "\n",
    "We will use the regression model from the sklearn library to validate that this four-season model is unreliable.\n",
    "\n",
    "The result shows that the coefficients of the four seasons are the same and very large. Again, it proves that the model is unreliable."
   ]
  },
  {
   "cell_type": "code",
   "execution_count": 15,
   "metadata": {},
   "outputs": [
    {
     "name": "stdout",
     "output_type": "stream",
     "text": [
      "Coefficients: \n",
      " [-1.52476403e+16 -1.52476403e+16 -1.52476403e+16 -1.52476403e+16]\n"
     ]
    }
   ],
   "source": [
    "# reference: https://scikit-learn.org/stable/auto_examples/linear_model/plot_ols.html\n",
    "\n",
    "from sklearn import linear_model\n",
    "# Create linear regression object\n",
    "regr = linear_model.LinearRegression()\n",
    "\n",
    "# Train the model using the training sets\n",
    "regr.fit(bike_rental_seasons.loc[:,['season_SPRING', 'season_SUMMER', 'season_FALL', 'season_WINTER']], bike_rental_seasons.cnt)\n",
    "\n",
    "# The coefficients\n",
    "print(\"Coefficients: \\n\", regr.coef_)"
   ]
  },
  {
   "cell_type": "markdown",
   "metadata": {},
   "source": [
    "## Model 2 - Using three seasons"
   ]
  },
  {
   "cell_type": "markdown",
   "metadata": {},
   "source": [
    "How about excluding `season_SPRING` and using only three season variabels for regression?"
   ]
  },
  {
   "cell_type": "code",
   "execution_count": 16,
   "metadata": {},
   "outputs": [
    {
     "data": {
      "text/html": [
       "<table class=\"simpletable\">\n",
       "<caption>OLS Regression Results</caption>\n",
       "<tr>\n",
       "  <th>Dep. Variable:</th>           <td>cnt</td>       <th>  R-squared:         </th> <td>   0.347</td> \n",
       "</tr>\n",
       "<tr>\n",
       "  <th>Model:</th>                   <td>OLS</td>       <th>  Adj. R-squared:    </th> <td>   0.344</td> \n",
       "</tr>\n",
       "<tr>\n",
       "  <th>Method:</th>             <td>Least Squares</td>  <th>  F-statistic:       </th> <td>   128.8</td> \n",
       "</tr>\n",
       "<tr>\n",
       "  <th>Date:</th>             <td>Tue, 31 Oct 2023</td> <th>  Prob (F-statistic):</th> <td>6.72e-67</td> \n",
       "</tr>\n",
       "<tr>\n",
       "  <th>Time:</th>                 <td>14:52:58</td>     <th>  Log-Likelihood:    </th> <td> -6413.9</td> \n",
       "</tr>\n",
       "<tr>\n",
       "  <th>No. Observations:</th>      <td>   731</td>      <th>  AIC:               </th> <td>1.284e+04</td>\n",
       "</tr>\n",
       "<tr>\n",
       "  <th>Df Residuals:</th>          <td>   727</td>      <th>  BIC:               </th> <td>1.285e+04</td>\n",
       "</tr>\n",
       "<tr>\n",
       "  <th>Df Model:</th>              <td>     3</td>      <th>                     </th>     <td> </td>    \n",
       "</tr>\n",
       "<tr>\n",
       "  <th>Covariance Type:</th>      <td>nonrobust</td>    <th>                     </th>     <td> </td>    \n",
       "</tr>\n",
       "</table>\n",
       "<table class=\"simpletable\">\n",
       "<tr>\n",
       "        <td></td>           <th>coef</th>     <th>std err</th>      <th>t</th>      <th>P>|t|</th>  <th>[0.025</th>    <th>0.975]</th>  \n",
       "</tr>\n",
       "<tr>\n",
       "  <th>Intercept</th>     <td> 2604.1326</td> <td>  116.598</td> <td>   22.334</td> <td> 0.000</td> <td> 2375.223</td> <td> 2833.042</td>\n",
       "</tr>\n",
       "<tr>\n",
       "  <th>season_SUMMER</th> <td> 2388.1989</td> <td>  164.221</td> <td>   14.543</td> <td> 0.000</td> <td> 2065.795</td> <td> 2710.603</td>\n",
       "</tr>\n",
       "<tr>\n",
       "  <th>season_FALL</th>   <td> 3040.1706</td> <td>  163.352</td> <td>   18.611</td> <td> 0.000</td> <td> 2719.472</td> <td> 3360.869</td>\n",
       "</tr>\n",
       "<tr>\n",
       "  <th>season_WINTER</th> <td> 2124.0303</td> <td>  165.588</td> <td>   12.827</td> <td> 0.000</td> <td> 1798.943</td> <td> 2449.118</td>\n",
       "</tr>\n",
       "</table>\n",
       "<table class=\"simpletable\">\n",
       "<tr>\n",
       "  <th>Omnibus:</th>       <td> 3.050</td> <th>  Durbin-Watson:     </th> <td>   0.469</td>\n",
       "</tr>\n",
       "<tr>\n",
       "  <th>Prob(Omnibus):</th> <td> 0.218</td> <th>  Jarque-Bera (JB):  </th> <td>   2.765</td>\n",
       "</tr>\n",
       "<tr>\n",
       "  <th>Skew:</th>          <td> 0.080</td> <th>  Prob(JB):          </th> <td>   0.251</td>\n",
       "</tr>\n",
       "<tr>\n",
       "  <th>Kurtosis:</th>      <td> 2.745</td> <th>  Cond. No.          </th> <td>    4.81</td>\n",
       "</tr>\n",
       "</table><br/><br/>Notes:<br/>[1] Standard Errors assume that the covariance matrix of the errors is correctly specified."
      ],
      "text/plain": [
       "<class 'statsmodels.iolib.summary.Summary'>\n",
       "\"\"\"\n",
       "                            OLS Regression Results                            \n",
       "==============================================================================\n",
       "Dep. Variable:                    cnt   R-squared:                       0.347\n",
       "Model:                            OLS   Adj. R-squared:                  0.344\n",
       "Method:                 Least Squares   F-statistic:                     128.8\n",
       "Date:                Tue, 31 Oct 2023   Prob (F-statistic):           6.72e-67\n",
       "Time:                        14:52:58   Log-Likelihood:                -6413.9\n",
       "No. Observations:                 731   AIC:                         1.284e+04\n",
       "Df Residuals:                     727   BIC:                         1.285e+04\n",
       "Df Model:                           3                                         \n",
       "Covariance Type:            nonrobust                                         \n",
       "=================================================================================\n",
       "                    coef    std err          t      P>|t|      [0.025      0.975]\n",
       "---------------------------------------------------------------------------------\n",
       "Intercept      2604.1326    116.598     22.334      0.000    2375.223    2833.042\n",
       "season_SUMMER  2388.1989    164.221     14.543      0.000    2065.795    2710.603\n",
       "season_FALL    3040.1706    163.352     18.611      0.000    2719.472    3360.869\n",
       "season_WINTER  2124.0303    165.588     12.827      0.000    1798.943    2449.118\n",
       "==============================================================================\n",
       "Omnibus:                        3.050   Durbin-Watson:                   0.469\n",
       "Prob(Omnibus):                  0.218   Jarque-Bera (JB):                2.765\n",
       "Skew:                           0.080   Prob(JB):                        0.251\n",
       "Kurtosis:                       2.745   Cond. No.                         4.81\n",
       "==============================================================================\n",
       "\n",
       "Notes:\n",
       "[1] Standard Errors assume that the covariance matrix of the errors is correctly specified.\n",
       "\"\"\""
      ]
     },
     "execution_count": 16,
     "metadata": {},
     "output_type": "execute_result"
    }
   ],
   "source": [
    "model_cnt_seasons_noSpring = sm.formula.ols('cnt ~ season_SUMMER + season_FALL + season_WINTER', bike_rental_seasons).fit()\n",
    "model_cnt_seasons_noSpring.summary()"
   ]
  },
  {
   "cell_type": "markdown",
   "metadata": {},
   "source": [
    "The **summary()** function gives a lot of information. Here we are interested in the following results:\n",
    "\n",
    "- **R-squared**: 0.347.\n",
    "- **Coefficients** of each variable\n",
    "- **Cond. No.**: the condition number.\n",
    "\n",
    "Some findings are:\n",
    "\n",
    "- The R-squared value is the same as Model 1, which means that excluding `spring` does not lead to loss of information in the model.\n",
    "- The Cond. No. is much smaller, which indicates that the multicollinearity issue in Model 1 has been resolved."
   ]
  },
  {
   "cell_type": "markdown",
   "metadata": {},
   "source": [
    "In this example, we have shown what multicolliearity is and we have tackled this issue by **mannually** excluding one variable. However, this approach is not applicable when there are a large number of explanatory variables, for which we need automatic approaches for resolving multicolliearity and selecting variables. That's why we introduce **VIF**."
   ]
  },
  {
   "cell_type": "markdown",
   "metadata": {},
   "source": [
    "As you can see, after one of the season variable ('spring') is excluded, the multicollinearity issue is tackled. The conditional number reduces to 4.81, and there is no more warning from `statsmodels`.\n",
    "\n",
    "It is unlikely that you will get a different result on your computer."
   ]
  },
  {
   "cell_type": "markdown",
   "metadata": {},
   "source": [
    "# Using VIF to deal with multicollinearity"
   ]
  },
  {
   "cell_type": "markdown",
   "metadata": {},
   "source": [
    "Here we introduce VIF to automatically deal with multicollinearity.\n",
    "\n",
    "The `Variance Inflation Factor` (VIF) is a measure of multicollinearity among predictors within a multiple regression task. It is the quotient of the variance in a model with multiple predictors by the variance of a model with a single predictor. More explanation of the theory can be found [here](https://online.stat.psu.edu/stat501/lesson/12/12.4). \n",
    "\n",
    "Using VIF to deal with multicollineartiy consists of the following steps:\n",
    "\n",
    "1. Initialise ```L``` as the list of explanatory variables. (*HINT*: the response variable is not needed for calculating VIF)\n",
    "2. Calculate the VIF for each variable in ```L``` using the other variables. (*HINT*: the order of computing VIF is irrelevant).\n",
    "3. If the highest VIF is larger than the threshold, remove the variable from the list ```L```. (*HINT*: each time, no more than one variable is removed from ```L```. This is because removing any variable will affect the VIF of the other variables.)\n",
    "4. Repeat Step 2-3, until no VIF is larger than the threshold.\n",
    "5. Return ```L```.\n",
    "\n",
    "Below is an example of using VIF on the `bike_rental` dataset. Note that the `statsmodels` package is used."
   ]
  },
  {
   "cell_type": "code",
   "execution_count": 17,
   "metadata": {},
   "outputs": [],
   "source": [
    "# calculating VIF\n",
    "# This function is adjusted from: https://stackoverflow.com/a/51329496/4667568\n",
    "from statsmodels.stats.outliers_influence import variance_inflation_factor \n",
    "from statsmodels.tools.tools import add_constant\n",
    "\n",
    "def drop_column_using_vif_(df, thresh=5):\n",
    "    '''\n",
    "    Calculates VIF each feature in a pandas dataframe, and repeatedly drop the columns with the highest VIF\n",
    "    A constant must be added to variance_inflation_factor or the results will be incorrect\n",
    "\n",
    "    :param df: the pandas dataframe containing only the predictor features, not the response variable\n",
    "    :param thresh: (default 5) the threshould VIF value. If the VIF of a variable is greater than thresh, it should be removed from the dataframe\n",
    "    :return: dataframe with multicollinear features removed\n",
    "    '''\n",
    "    while True:\n",
    "        # adding a constatnt item to the data. add_constant is a function from statsmodels (see the import above)\n",
    "        df_with_const = add_constant(df)\n",
    "\n",
    "        vif_df = pd.Series([variance_inflation_factor(df_with_const.values, i) \n",
    "               for i in range(df_with_const.shape[1])], name= \"VIF\",\n",
    "              index=df_with_const.columns).to_frame()\n",
    "\n",
    "        # drop the const\n",
    "        vif_df = vif_df.drop('const')\n",
    "        \n",
    "        # if the largest VIF is above the thresh, remove a variable with the largest VIF\n",
    "        # If there are multiple variabels with VIF>thresh, only one of them is removed. This is because we want to keep as many variables as possible\n",
    "        if vif_df.VIF.max() > thresh:\n",
    "            # If there are multiple variables with the maximum VIF, choose the first one\n",
    "            index_to_drop = vif_df.index[vif_df.VIF == vif_df.VIF.max()].tolist()[0]\n",
    "            print('Dropping: {}'.format(index_to_drop))\n",
    "            df = df.drop(columns = index_to_drop)\n",
    "        else:\n",
    "            # No VIF is above threshold. Exit the loop\n",
    "            break\n",
    "\n",
    "    return df"
   ]
  },
  {
   "cell_type": "markdown",
   "metadata": {},
   "source": [
    "You are not required to understand every detail of the ```drop_column_using_vif_``` function. Rather, the key point is to understand its inputs and outputs, and how to use it for your datasets. \n",
    "\n",
    "As an example, we will use the `drop_column_using_vif_` function on `bike_rental_seasons`. As shown below, one of the season variable would be dropped, and the dataframe returned contains only three variables."
   ]
  },
  {
   "cell_type": "code",
   "execution_count": 18,
   "metadata": {},
   "outputs": [
    {
     "name": "stdout",
     "output_type": "stream",
     "text": [
      "Dropping: season_SPRING\n"
     ]
    },
    {
     "name": "stderr",
     "output_type": "stream",
     "text": [
      "/opt/conda/lib/python3.10/site-packages/statsmodels/regression/linear_model.py:1736: RuntimeWarning: divide by zero encountered in double_scalars\n",
      "  return 1 - self.ssr/self.centered_tss\n",
      "/opt/conda/lib/python3.10/site-packages/statsmodels/stats/outliers_influence.py:195: RuntimeWarning: divide by zero encountered in double_scalars\n",
      "  vif = 1. / (1. - r_squared_i)\n"
     ]
    }
   ],
   "source": [
    "bike_rental_seasons_new = drop_column_using_vif_(bike_rental_seasons.drop('cnt', axis=1))"
   ]
  },
  {
   "cell_type": "markdown",
   "metadata": {},
   "source": [
    "*Hint*: You can ignore the warnings of `RuntimeWarning: divide by zero encountered in double_scalars`."
   ]
  },
  {
   "cell_type": "markdown",
   "metadata": {},
   "source": [
    "Someone may ask - given that VIF will drop one (or multiple) season variables, there is no need to drop one season category during one-hot encoding. This is not true. As we know there is multicollinearity between the four season variables, a good practice is to drop one of them during one-hot encoding. Moreover, by manually dropping one category, we can select which category to drop, depending on our preference and domain knowledge. The dropped category is called reference level and is quite important for interpreting the result."
   ]
  },
  {
   "cell_type": "markdown",
   "metadata": {},
   "source": [
    "We have learnt one-hot encoding of categorical variables and VIF for variable selection. Now, we can build a comprehensive model for bike rental using all variables."
   ]
  },
  {
   "cell_type": "markdown",
   "metadata": {},
   "source": [
    "# Building and interpreting a linear regression model"
   ]
  },
  {
   "cell_type": "markdown",
   "metadata": {},
   "source": [
    "## Building the model"
   ]
  },
  {
   "cell_type": "markdown",
   "metadata": {},
   "source": [
    "We are going to use VIF on the whole dataset, build a linear model, and interpret the result.\n",
    "\n",
    "First, check out the columns. Remember that we have conducted one-hot encoding for categorical variables and dropped one of the categories."
   ]
  },
  {
   "cell_type": "code",
   "execution_count": 19,
   "metadata": {},
   "outputs": [
    {
     "data": {
      "text/plain": [
       "Index(['cnt', 'yr', 'temp', 'hum', 'windspeed', 'days_since_2011',\n",
       "       'season_FALL', 'season_SUMMER', 'season_WINTER', 'mnth_APR', 'mnth_AUG',\n",
       "       'mnth_DEZ', 'mnth_FEB', 'mnth_JUL', 'mnth_JUN', 'mnth_MAR', 'mnth_MAY',\n",
       "       'mnth_NOV', 'mnth_OKT', 'mnth_SEP', 'holiday_HOLIDAY', 'weekday_FRI',\n",
       "       'weekday_SAT', 'weekday_SUN', 'weekday_THU', 'weekday_TUE',\n",
       "       'weekday_WED', 'workingday_NO WORKING DAY', 'weathersit_MISTY',\n",
       "       'weathersit_RAIN/SNOW/STORM'],\n",
       "      dtype='object')"
      ]
     },
     "execution_count": 19,
     "metadata": {},
     "output_type": "execute_result"
    }
   ],
   "source": [
    "bike_rental_final.columns"
   ]
  },
  {
   "cell_type": "markdown",
   "metadata": {},
   "source": [
    "Second, we use VIF on the **bike_rental_final** dataset."
   ]
  },
  {
   "cell_type": "code",
   "execution_count": 20,
   "metadata": {},
   "outputs": [
    {
     "name": "stderr",
     "output_type": "stream",
     "text": [
      "/opt/conda/lib/python3.10/site-packages/statsmodels/stats/outliers_influence.py:195: RuntimeWarning: divide by zero encountered in double_scalars\n",
      "  vif = 1. / (1. - r_squared_i)\n"
     ]
    },
    {
     "name": "stdout",
     "output_type": "stream",
     "text": [
      "Dropping: holiday_HOLIDAY\n",
      "Dropping: days_since_2011\n",
      "Dropping: season_FALL\n",
      "Dropping: workingday_NO WORKING DAY\n",
      "Dropping: temp\n",
      "Dropping: season_WINTER\n",
      "Dropping: season_SUMMER\n",
      "The columns remaining after VIF selection are:\n",
      "Index(['yr', 'hum', 'windspeed', 'mnth_APR', 'mnth_AUG', 'mnth_DEZ',\n",
      "       'mnth_FEB', 'mnth_JUL', 'mnth_JUN', 'mnth_MAR', 'mnth_MAY', 'mnth_NOV',\n",
      "       'mnth_OKT', 'mnth_SEP', 'weekday_FRI', 'weekday_SAT', 'weekday_SUN',\n",
      "       'weekday_THU', 'weekday_TUE', 'weekday_WED', 'weathersit_MISTY',\n",
      "       'weathersit_RAIN/SNOW/STORM'],\n",
      "      dtype='object')\n"
     ]
    }
   ],
   "source": [
    "# using VIF on the bike_rental dataset\n",
    "df_predictors_selected_VIF = drop_column_using_vif_(bike_rental_final.drop('cnt', axis=1))\n",
    "# Note that there is a 'while' loop in the drop_column_using_vif_. In each iteration, one variable is dropped.\n",
    "print(\"The columns remaining after VIF selection are:\")\n",
    "print(df_predictors_selected_VIF.columns)"
   ]
  },
  {
   "cell_type": "markdown",
   "metadata": {},
   "source": [
    "Now we can fit a linear regression model after dealing with the multicollinearity. There are at least two different ways to forumlate a linear regression model using `statsmodels`.\n",
    "\n",
    "1. Using `statsmodels.api.formula.ols`. A specific formula is needed.\n",
    "2. Using `statsmodels.api.OLS`. You don't need to write the formula. Assign the `y` and `X` in the linear regression to the `endog` and `exog` parameters, respectively. \n",
    "\n",
    "Now we use the `statsmodels.api.OLS` to build and fit a linear regression model."
   ]
  },
  {
   "cell_type": "code",
   "execution_count": 21,
   "metadata": {},
   "outputs": [
    {
     "data": {
      "text/html": [
       "<table class=\"simpletable\">\n",
       "<caption>OLS Regression Results</caption>\n",
       "<tr>\n",
       "  <th>Dep. Variable:</th>           <td>cnt</td>       <th>  R-squared:         </th> <td>   0.798</td> \n",
       "</tr>\n",
       "<tr>\n",
       "  <th>Model:</th>                   <td>OLS</td>       <th>  Adj. R-squared:    </th> <td>   0.792</td> \n",
       "</tr>\n",
       "<tr>\n",
       "  <th>Method:</th>             <td>Least Squares</td>  <th>  F-statistic:       </th> <td>   127.4</td> \n",
       "</tr>\n",
       "<tr>\n",
       "  <th>Date:</th>             <td>Tue, 31 Oct 2023</td> <th>  Prob (F-statistic):</th> <td>6.62e-229</td>\n",
       "</tr>\n",
       "<tr>\n",
       "  <th>Time:</th>                 <td>14:53:01</td>     <th>  Log-Likelihood:    </th> <td> -5984.4</td> \n",
       "</tr>\n",
       "<tr>\n",
       "  <th>No. Observations:</th>      <td>   731</td>      <th>  AIC:               </th> <td>1.201e+04</td>\n",
       "</tr>\n",
       "<tr>\n",
       "  <th>Df Residuals:</th>          <td>   708</td>      <th>  BIC:               </th> <td>1.212e+04</td>\n",
       "</tr>\n",
       "<tr>\n",
       "  <th>Df Model:</th>              <td>    22</td>      <th>                     </th>     <td> </td>    \n",
       "</tr>\n",
       "<tr>\n",
       "  <th>Covariance Type:</th>      <td>nonrobust</td>    <th>                     </th>     <td> </td>    \n",
       "</tr>\n",
       "</table>\n",
       "<table class=\"simpletable\">\n",
       "<tr>\n",
       "               <td></td>                 <th>coef</th>     <th>std err</th>      <th>t</th>      <th>P>|t|</th>  <th>[0.025</th>    <th>0.975]</th>  \n",
       "</tr>\n",
       "<tr>\n",
       "  <th>const</th>                      <td>-4.257e+06</td> <td> 1.33e+05</td> <td>  -32.053</td> <td> 0.000</td> <td>-4.52e+06</td> <td>   -4e+06</td>\n",
       "</tr>\n",
       "<tr>\n",
       "  <th>yr</th>                         <td> 2117.7896</td> <td>   66.007</td> <td>   32.084</td> <td> 0.000</td> <td> 1988.196</td> <td> 2247.383</td>\n",
       "</tr>\n",
       "<tr>\n",
       "  <th>hum</th>                        <td>   -6.0929</td> <td>    3.232</td> <td>   -1.885</td> <td> 0.060</td> <td>  -12.439</td> <td>    0.253</td>\n",
       "</tr>\n",
       "<tr>\n",
       "  <th>windspeed</th>                  <td>  -45.9479</td> <td>    6.916</td> <td>   -6.643</td> <td> 0.000</td> <td>  -59.527</td> <td>  -32.369</td>\n",
       "</tr>\n",
       "<tr>\n",
       "  <th>mnth_APR</th>                   <td> 2403.4612</td> <td>  160.553</td> <td>   14.970</td> <td> 0.000</td> <td> 2088.245</td> <td> 2718.677</td>\n",
       "</tr>\n",
       "<tr>\n",
       "  <th>mnth_AUG</th>                   <td> 3310.1188</td> <td>  160.566</td> <td>   20.615</td> <td> 0.000</td> <td> 2994.877</td> <td> 3625.361</td>\n",
       "</tr>\n",
       "<tr>\n",
       "  <th>mnth_DEZ</th>                   <td> 1274.8808</td> <td>  160.371</td> <td>    7.950</td> <td> 0.000</td> <td>  960.022</td> <td> 1589.740</td>\n",
       "</tr>\n",
       "<tr>\n",
       "  <th>mnth_FEB</th>                   <td>  431.7215</td> <td>  162.233</td> <td>    2.661</td> <td> 0.008</td> <td>  113.207</td> <td>  750.236</td>\n",
       "</tr>\n",
       "<tr>\n",
       "  <th>mnth_JUL</th>                   <td> 3126.1974</td> <td>  160.830</td> <td>   19.438</td> <td> 0.000</td> <td> 2810.437</td> <td> 3441.958</td>\n",
       "</tr>\n",
       "<tr>\n",
       "  <th>mnth_JUN</th>                   <td> 3371.6346</td> <td>  160.772</td> <td>   20.971</td> <td> 0.000</td> <td> 3055.987</td> <td> 3687.283</td>\n",
       "</tr>\n",
       "<tr>\n",
       "  <th>mnth_MAR</th>                   <td> 1579.6491</td> <td>  158.912</td> <td>    9.940</td> <td> 0.000</td> <td> 1267.653</td> <td> 1891.645</td>\n",
       "</tr>\n",
       "<tr>\n",
       "  <th>mnth_MAY</th>                   <td> 3126.1887</td> <td>  162.023</td> <td>   19.295</td> <td> 0.000</td> <td> 2808.086</td> <td> 3444.292</td>\n",
       "</tr>\n",
       "<tr>\n",
       "  <th>mnth_NOV</th>                   <td> 1995.8622</td> <td>  161.375</td> <td>   12.368</td> <td> 0.000</td> <td> 1679.031</td> <td> 2312.693</td>\n",
       "</tr>\n",
       "<tr>\n",
       "  <th>mnth_OKT</th>                   <td> 3141.8429</td> <td>  161.719</td> <td>   19.428</td> <td> 0.000</td> <td> 2824.337</td> <td> 3459.349</td>\n",
       "</tr>\n",
       "<tr>\n",
       "  <th>mnth_SEP</th>                   <td> 3614.9656</td> <td>  164.581</td> <td>   21.965</td> <td> 0.000</td> <td> 3291.841</td> <td> 3938.090</td>\n",
       "</tr>\n",
       "<tr>\n",
       "  <th>weekday_FRI</th>                <td>  284.2976</td> <td>  122.643</td> <td>    2.318</td> <td> 0.021</td> <td>   43.509</td> <td>  525.086</td>\n",
       "</tr>\n",
       "<tr>\n",
       "  <th>weekday_SAT</th>                <td>  262.7645</td> <td>  122.135</td> <td>    2.151</td> <td> 0.032</td> <td>   22.974</td> <td>  502.555</td>\n",
       "</tr>\n",
       "<tr>\n",
       "  <th>weekday_SUN</th>                <td> -187.6888</td> <td>  122.035</td> <td>   -1.538</td> <td> 0.124</td> <td> -427.283</td> <td>   51.905</td>\n",
       "</tr>\n",
       "<tr>\n",
       "  <th>weekday_THU</th>                <td>  306.3686</td> <td>  122.605</td> <td>    2.499</td> <td> 0.013</td> <td>   65.655</td> <td>  547.082</td>\n",
       "</tr>\n",
       "<tr>\n",
       "  <th>weekday_TUE</th>                <td>  220.1168</td> <td>  122.306</td> <td>    1.800</td> <td> 0.072</td> <td>  -20.008</td> <td>  460.242</td>\n",
       "</tr>\n",
       "<tr>\n",
       "  <th>weekday_WED</th>                <td>  274.9238</td> <td>  122.679</td> <td>    2.241</td> <td> 0.025</td> <td>   34.067</td> <td>  515.781</td>\n",
       "</tr>\n",
       "<tr>\n",
       "  <th>weathersit_MISTY</th>           <td> -620.0241</td> <td>   86.766</td> <td>   -7.146</td> <td> 0.000</td> <td> -790.374</td> <td> -449.674</td>\n",
       "</tr>\n",
       "<tr>\n",
       "  <th>weathersit_RAIN/SNOW/STORM</th> <td>-2269.0044</td> <td>  223.268</td> <td>  -10.163</td> <td> 0.000</td> <td>-2707.350</td> <td>-1830.658</td>\n",
       "</tr>\n",
       "</table>\n",
       "<table class=\"simpletable\">\n",
       "<tr>\n",
       "  <th>Omnibus:</th>       <td>128.767</td> <th>  Durbin-Watson:     </th> <td>   1.058</td>\n",
       "</tr>\n",
       "<tr>\n",
       "  <th>Prob(Omnibus):</th> <td> 0.000</td>  <th>  Jarque-Bera (JB):  </th> <td> 397.189</td>\n",
       "</tr>\n",
       "<tr>\n",
       "  <th>Skew:</th>          <td>-0.848</td>  <th>  Prob(JB):          </th> <td>5.64e-87</td>\n",
       "</tr>\n",
       "<tr>\n",
       "  <th>Kurtosis:</th>      <td> 6.188</td>  <th>  Cond. No.          </th> <td>8.18e+06</td>\n",
       "</tr>\n",
       "</table><br/><br/>Notes:<br/>[1] Standard Errors assume that the covariance matrix of the errors is correctly specified.<br/>[2] The condition number is large, 8.18e+06. This might indicate that there are<br/>strong multicollinearity or other numerical problems."
      ],
      "text/plain": [
       "<class 'statsmodels.iolib.summary.Summary'>\n",
       "\"\"\"\n",
       "                            OLS Regression Results                            \n",
       "==============================================================================\n",
       "Dep. Variable:                    cnt   R-squared:                       0.798\n",
       "Model:                            OLS   Adj. R-squared:                  0.792\n",
       "Method:                 Least Squares   F-statistic:                     127.4\n",
       "Date:                Tue, 31 Oct 2023   Prob (F-statistic):          6.62e-229\n",
       "Time:                        14:53:01   Log-Likelihood:                -5984.4\n",
       "No. Observations:                 731   AIC:                         1.201e+04\n",
       "Df Residuals:                     708   BIC:                         1.212e+04\n",
       "Df Model:                          22                                         \n",
       "Covariance Type:            nonrobust                                         \n",
       "==============================================================================================\n",
       "                                 coef    std err          t      P>|t|      [0.025      0.975]\n",
       "----------------------------------------------------------------------------------------------\n",
       "const                      -4.257e+06   1.33e+05    -32.053      0.000   -4.52e+06      -4e+06\n",
       "yr                          2117.7896     66.007     32.084      0.000    1988.196    2247.383\n",
       "hum                           -6.0929      3.232     -1.885      0.060     -12.439       0.253\n",
       "windspeed                    -45.9479      6.916     -6.643      0.000     -59.527     -32.369\n",
       "mnth_APR                    2403.4612    160.553     14.970      0.000    2088.245    2718.677\n",
       "mnth_AUG                    3310.1188    160.566     20.615      0.000    2994.877    3625.361\n",
       "mnth_DEZ                    1274.8808    160.371      7.950      0.000     960.022    1589.740\n",
       "mnth_FEB                     431.7215    162.233      2.661      0.008     113.207     750.236\n",
       "mnth_JUL                    3126.1974    160.830     19.438      0.000    2810.437    3441.958\n",
       "mnth_JUN                    3371.6346    160.772     20.971      0.000    3055.987    3687.283\n",
       "mnth_MAR                    1579.6491    158.912      9.940      0.000    1267.653    1891.645\n",
       "mnth_MAY                    3126.1887    162.023     19.295      0.000    2808.086    3444.292\n",
       "mnth_NOV                    1995.8622    161.375     12.368      0.000    1679.031    2312.693\n",
       "mnth_OKT                    3141.8429    161.719     19.428      0.000    2824.337    3459.349\n",
       "mnth_SEP                    3614.9656    164.581     21.965      0.000    3291.841    3938.090\n",
       "weekday_FRI                  284.2976    122.643      2.318      0.021      43.509     525.086\n",
       "weekday_SAT                  262.7645    122.135      2.151      0.032      22.974     502.555\n",
       "weekday_SUN                 -187.6888    122.035     -1.538      0.124    -427.283      51.905\n",
       "weekday_THU                  306.3686    122.605      2.499      0.013      65.655     547.082\n",
       "weekday_TUE                  220.1168    122.306      1.800      0.072     -20.008     460.242\n",
       "weekday_WED                  274.9238    122.679      2.241      0.025      34.067     515.781\n",
       "weathersit_MISTY            -620.0241     86.766     -7.146      0.000    -790.374    -449.674\n",
       "weathersit_RAIN/SNOW/STORM -2269.0044    223.268    -10.163      0.000   -2707.350   -1830.658\n",
       "==============================================================================\n",
       "Omnibus:                      128.767   Durbin-Watson:                   1.058\n",
       "Prob(Omnibus):                  0.000   Jarque-Bera (JB):              397.189\n",
       "Skew:                          -0.848   Prob(JB):                     5.64e-87\n",
       "Kurtosis:                       6.188   Cond. No.                     8.18e+06\n",
       "==============================================================================\n",
       "\n",
       "Notes:\n",
       "[1] Standard Errors assume that the covariance matrix of the errors is correctly specified.\n",
       "[2] The condition number is large, 8.18e+06. This might indicate that there are\n",
       "strong multicollinearity or other numerical problems.\n",
       "\"\"\""
      ]
     },
     "execution_count": 21,
     "metadata": {},
     "output_type": "execute_result"
    }
   ],
   "source": [
    "model_bike_rental = sm.OLS(endog=bike_rental_final[['cnt']], exog=sm.add_constant(df_predictors_selected_VIF)).fit()\n",
    "model_bike_rental.summary()"
   ]
  },
  {
   "cell_type": "markdown",
   "metadata": {},
   "source": [
    "## An extra note on condition number\n",
    "\n",
    "In the model above, even if we have tackled the multicollinearity between variables, there is still a warning about the large condition number. Condition number does not always indicate strong multicollinearity. There are two potential reasons for a large condition number:\n",
    "\n",
    "- Strong multicollinearity between x variables.\n",
    "- Different scales of variables.\n",
    "\n",
    "**Therefore, if you have used VIF to tackle the multicollinearity between x variables and select variables, you can ignore the warning about a large condition number.**"
   ]
  },
  {
   "cell_type": "markdown",
   "metadata": {},
   "source": [
    "## Residual analysis"
   ]
  },
  {
   "cell_type": "markdown",
   "metadata": {},
   "source": [
    "We can conduct residual analysis using 'Residual vs. Fitted plot'. **Can you review the following conditions using the residuals vs. fitted plot and the residual histogram plot?** \n",
    "\n",
    "- Linear relationship\n",
    "- Independent errors\n",
    "- Normally distributed errors\n",
    "- Equal variance\n",
    "\n",
    "Additionally, it is important to discuss the potential outliers of this model."
   ]
  },
  {
   "cell_type": "code",
   "execution_count": 22,
   "metadata": {},
   "outputs": [
    {
     "data": {
      "image/png": "[encoded data removed]",
      "text/plain": [
       "<Figure size 576x432 with 1 Axes>"
      ]
     },
     "metadata": {
      "needs_background": "light"
     },
     "output_type": "display_data"
    }
   ],
   "source": [
    "# Residuals vs. Fitted plot\n",
    "\n",
    "# Set the figure size\n",
    "plt.figure(figsize=(8, 6))  \n",
    "# alpha = 0.5: controlling the transparency of the markers. Here alpha = 0.5 means that the markers are semi-transparent.\n",
    "# s = 20: controlling the size of the markers. The default value is plt.rcParams['lines.markersize'] ** 2. Here we set it as 20.\n",
    "# To get the default value of marker size, run the following line\n",
    "# print(plt.rcParams['lines.markersize'] ** 2) \n",
    "plt.scatter(model_bike_rental.fittedvalues, model_bike_rental.resid, alpha = 0.5, s=20)\n",
    "# plt.scatter(model_bike_rental.fittedvalues, model_bike_rental.resid, alpha = 0.5)\n",
    "# adding title and labels\n",
    "plt.xlabel('Fitted bike rental')\n",
    "plt.ylabel('Residual')\n",
    "plt.title('Residual vs. Fitted Plot of bike rental')\n",
    "# Adding grid lines\n",
    "plt.grid(True)\n",
    "plt.show()"
   ]
  },
  {
   "cell_type": "code",
   "execution_count": 23,
   "metadata": {},
   "outputs": [
    {
     "data": {
      "image/png": "[encoded data removed]",
      "text/plain": [
       "<Figure size 576x432 with 1 Axes>"
      ]
     },
     "metadata": {
      "needs_background": "light"
     },
     "output_type": "display_data"
    }
   ],
   "source": [
    "# Histogram of residuals\n",
    "\n",
    "# Set the figure size\n",
    "plt.figure(figsize=(8, 6))  \n",
    "\n",
    "# Plotting the histogram\n",
    "plt.hist(model_bike_rental.resid, bins=20, color='skyblue', edgecolor='black', alpha=0.7)\n",
    "\n",
    "# Adding labels and title\n",
    "plt.xlabel('Residuals')\n",
    "plt.ylabel('Frequency')\n",
    "plt.title('Histogram of Residuals of the Linear Model')\n",
    "\n",
    "# Adding grid lines (optional)\n",
    "plt.grid(True)\n",
    "\n",
    "# Display the plot\n",
    "plt.show()"
   ]
  },
  {
   "cell_type": "code",
   "execution_count": 24,
   "metadata": {},
   "outputs": [
    {
     "data": {
      "image/png": "[encoded data removed]",
      "text/plain": [
       "<Figure size 432x288 with 1 Axes>"
      ]
     },
     "metadata": {
      "needs_background": "light"
     },
     "output_type": "display_data"
    }
   ],
   "source": [
    "# (optional) the QQ plot of residuals\n",
    "# More details: https://www.statsmodels.org/dev/generated/statsmodels.graphics.gofplots.qqplot.html\n",
    "fig = sm.qqplot(model_bike_rental.resid, fit=True, line=\"45\")\n",
    "plt.title('QQ Plot of Residuals')\n",
    "\n",
    "# Adding grid lines (optional)\n",
    "plt.grid(True)\n",
    "\n",
    "# Display the plot\n",
    "plt.show()"
   ]
  },
  {
   "cell_type": "markdown",
   "metadata": {},
   "source": [
    "## Discussion of the four conditions\n",
    "\n",
    "- Linear relationship\n",
    "\n",
    "The points in the residual plot do not bounce randomly around the x axis (residual=0). Therefore, it looks like ther is no linear relationship between the variables.\n",
    "\n",
    "- Independent errors\n",
    "\n",
    "The points in the residual plot are not randomly distributed and some clusters/patterns can be seens. Therefore, it is unlikely that the errors are independently distributed.\n",
    "\n",
    "- Normally distributed errors\n",
    "\n",
    "The histogram is asymmetric ans shows a positive skew, with more data points clustered to the right of residual=0.\n",
    "\n",
    "The QQ plot shows that the residuals deviates from the theoretical quantiles when the residual value is very small or large.\n",
    "\n",
    "Therefore, it is not likely that the residuals are normally distributed.\n",
    "\n",
    "- Equal variance\n",
    "\n",
    "The points do not form a horizontal band around residual=0, and the range of residuals increases with the fitted y value. Therefore, it is unlikely that the residuals have equal variance."
   ]
  },
  {
   "cell_type": "markdown",
   "metadata": {},
   "source": [
    "## Statistical tests of the four conditions (OPTIONAL)\n",
    "\n",
    "### Linear relationship\n",
    "\n",
    "We will use the Rainbow test for testing the linear relationship. Details can be found [in this link](https://www.statsmodels.org/v0.13.5/generated/statsmodels.stats.diagnostic.linear_rainbow.html).\n",
    "\n",
    "This test assumes residuals are homoskedastic (the null hypothesis) and may reject a correct linear specification if the residuals are heteroskedastic and the p value is less than or equal to the predefined significance level (usually 0.05)."
   ]
  },
  {
   "cell_type": "code",
   "execution_count": 25,
   "metadata": {},
   "outputs": [
    {
     "name": "stdout",
     "output_type": "stream",
     "text": [
      "The p value of the rainbow test: 0.0039\n"
     ]
    }
   ],
   "source": [
    "test_rainbow = statsmodels.stats.diagnostic.linear_rainbow(model_bike_rental)\n",
    "# This function returns a tuple consisting of two values: the test statistic based on the F test and the pvalue of the test\n",
    "# Note that these two values are not named. Therefore, you need to know the order before accessing these two values.\n",
    "print(\"The p value of the rainbow test: {:.4f}\".format(test_rainbow[1]))"
   ]
  },
  {
   "cell_type": "markdown",
   "metadata": {},
   "source": [
    "As the p value is less than 0.05, we will reject the null hypothesis. This dataset and model does not meet the linear relationship condition."
   ]
  },
  {
   "cell_type": "markdown",
   "metadata": {},
   "source": [
    "### Independent errors\n",
    "\n",
    "We will use the Durbin-Watson test and and Ljung-Box test for testing the independent errors. \n",
    "\n",
    "The details of Durbin-Watson test can be found [in this link](https://www.statsmodels.org/v0.13.5/generated/statsmodels.stats.stattools.durbin_watson.html).\n",
    "\n",
    "This test assumes that there is no serial correlation in the residuals. \n",
    "\n",
    "This statistic will always be between 0 and 4. \n",
    "\n",
    "If there is no serial correlation, the test statistic equals 2. \n",
    "\n",
    "The closer to 0, the more evidence for positive serial correlation. \n",
    "\n",
    "The closer to 4, the more evidence for negative serial correlation. \n",
    "\n",
    "Empirically, if the test statistic is between 1 and 2, it is likely that there is no serial correlation in the residuals.\n",
    "\n",
    "Unfortunately, the statsmodels library does not provide the p value of the Durbin-Watson test.\n",
    "\n",
    "The result below shows that this model has a Durbin Watson test statistic of 1.06, which demonstrates that there might be serial correlation in this model and the residuals are not independently distributed."
   ]
  },
  {
   "cell_type": "code",
   "execution_count": 26,
   "metadata": {},
   "outputs": [
    {
     "name": "stdout",
     "output_type": "stream",
     "text": [
      "Durbin-Watson test statistic is: 1.0579\n"
     ]
    }
   ],
   "source": [
    "test_dw = statsmodels.stats.stattools.durbin_watson(model_bike_rental.resid)\n",
    "print(\"Durbin-Watson test statistic is: {:.4f}\".format(test_dw))"
   ]
  },
  {
   "cell_type": "markdown",
   "metadata": {},
   "source": [
    "Alternatively, we can use the Ljung-Box test for testing for serial correlation in the linear model. The p value of this test is available.\n",
    "\n",
    "Details of this test is [here](https://www.statsmodels.org/v0.13.5/generated/statsmodels.stats.diagnostic.acorr_ljungbox.html).\n",
    "\n",
    "This test returns a dataframe with two columns, including the Ljung-Box test statistic and the p-value of this statistic based on the chi-square distribution.\n",
    "\n",
    "The Ljung-Box test requires a parameter of *lag*, which specifies the range of autocorrelation being tested.\n",
    "\n",
    "Each row of this dataframe represents a *lag* in this test. By default, the range of the lag is [1,10]."
   ]
  },
  {
   "cell_type": "code",
   "execution_count": 27,
   "metadata": {},
   "outputs": [
    {
     "name": "stdout",
     "output_type": "stream",
     "text": [
      "                                    lb_stat  \\\n",
      "1                                  161.5621   \n",
      "2                                  222.9460   \n",
      "3                                  240.5117   \n",
      "4                                  250.8307   \n",
      "5                                  266.7736   \n",
      "6                                  289.2303   \n",
      "7                                  300.8728   \n",
      "8                                  307.7524   \n",
      "9                                  310.3178   \n",
      "10                                 310.3741   \n",
      "\n",
      "                                  lb_pvalue  \n",
      "1                                    0.0000  \n",
      "2                                    0.0000  \n",
      "3                                    0.0000  \n",
      "4                                    0.0000  \n",
      "5                                    0.0000  \n",
      "6                                    0.0000  \n",
      "7                                    0.0000  \n",
      "8                                    0.0000  \n",
      "9                                    0.0000  \n",
      "10                                   0.0000  \n",
      "The maximum p value of the Ljung Box test: 0.0000\n"
     ]
    }
   ],
   "source": [
    "test_Ljung_Box = statsmodels.stats.diagnostic.acorr_ljungbox(model_bike_rental.resid)\n",
    "# print the result\n",
    "print(test_Ljung_Box)\n",
    "print(\"The maximum p value of the Ljung Box test: {:.4f}\".format(test_Ljung_Box.lb_pvalue.max()))"
   ]
  },
  {
   "cell_type": "markdown",
   "metadata": {},
   "source": [
    "As all p values of this test is less than the significance level of 0.05, we will reject the hypothesis and conlude that the residuals are not independent."
   ]
  },
  {
   "cell_type": "markdown",
   "metadata": {},
   "source": [
    "### Normally distributed errors\n",
    "\n",
    "We will use the Jarque-Bera test for testing the normality of residuals. \n",
    "\n",
    "The details of Jarque-Bera test can be found in [this link](https://www.statsmodels.org/v0.13.5/generated/statsmodels.stats.stattools.jarque_bera.html).\n",
    "\n",
    "The null hypothesis of this test is that the data is normally distributed.\n",
    "\n",
    "This test will return a tuple of four values, namely the Jarque-Bera test statistic, p value of the test statistic, estimated skewness of the data, and estimated kurtosis of the data."
   ]
  },
  {
   "cell_type": "code",
   "execution_count": 28,
   "metadata": {},
   "outputs": [
    {
     "name": "stdout",
     "output_type": "stream",
     "text": [
      "The p value of the Jarque Bera test: 0.0000\n"
     ]
    }
   ],
   "source": [
    "test_JB = statsmodels.stats.stattools.jarque_bera(model_bike_rental.resid)\n",
    "print(\"The p value of the Jarque Bera test: {:.4f}\".format(test_JB[1]))"
   ]
  },
  {
   "cell_type": "markdown",
   "metadata": {},
   "source": [
    "As the p value is less than 0.05, we will reject the null hypothesis and conclude that the residuals are not normally distributed."
   ]
  },
  {
   "cell_type": "markdown",
   "metadata": {},
   "source": [
    "### Equal variance\n",
    "\n",
    "We will use the Goldfeld-Quandt homoskedasticity test here to determine if heteroscedasticity is present in a regression model.\n",
    "\n",
    "The details of this test can be found in [this link](https://www.statsmodels.org/v0.13.5/generated/statsmodels.stats.diagnostic.het_goldfeldquandt.html).\n",
    "\n",
    "Note that the usage and parameters of this test are different from the above tests. This test contains two essential input data:\n",
    "\n",
    "- y: the dependent variable (or endogenous variable)\n",
    "- x: the independent variables (or regressors, or exogenous variable)\n",
    "\n",
    "The null hypothesis is that is that the variance in the two sub-samples are the same. The alternative hypothesis can be increasing (i.e. the variance in the second samples is larger than in the first), or decreasing or two-sided.\n",
    "\n",
    "This test will return a tuple of four values, namely the Jarque-Bera test statistic, p value of the test statistic, estimated skewness of the data, and estimated kurtosis of the data.\n",
    "\n",
    "Input of this test:\n",
    "\n",
    "To get the value of y and x, we can use either the *y=bike_rental_final[['cnt']]* and *x=sm.add_constant(df_predictors_selected_VIF)*, or the information stored in the regression model model_bike_rental. \n",
    "\n",
    "This model object contains a lot of information, including the input data and the model result.\n",
    "\n",
    "Output of this test:\n",
    "This test will return a tuple of at least three values, namely the test statistic, p value of the test statistic, and the ordering used in the alternative.\n"
   ]
  },
  {
   "cell_type": "code",
   "execution_count": 29,
   "metadata": {},
   "outputs": [
    {
     "data": {
      "text/plain": [
       "(2.4455741141646694, 1.8062460007874003e-16, 'increasing')"
      ]
     },
     "execution_count": 29,
     "metadata": {},
     "output_type": "execute_result"
    }
   ],
   "source": [
    "statsmodels.stats.diagnostic.het_goldfeldquandt(model_bike_rental.model.endog, model_bike_rental.model.exog)"
   ]
  },
  {
   "cell_type": "markdown",
   "metadata": {},
   "source": [
    "As the p value is less than 0.05, we will reject the null hypothesis and conclude that the residuals do not have equal variance."
   ]
  },
  {
   "cell_type": "markdown",
   "metadata": {},
   "source": [
    "## Interpreting the model"
   ]
  },
  {
   "cell_type": "markdown",
   "metadata": {},
   "source": [
    "The R-squared value is 0.798, meaning that 79.8% of the total variance of the bike rental can be explained by the variables used in the model.\n",
    "\n",
    "**Can you interpret the coefficients for the windspeed and the season variables, using what we have learned from the lecture?**"
   ]
  },
  {
   "cell_type": "markdown",
   "metadata": {},
   "source": [
    "# Building a logistic regression model"
   ]
  },
  {
   "cell_type": "markdown",
   "metadata": {},
   "source": [
    "The bike rental company is interested to predict whether the daily rental would exceed 4,500. \n",
    "\n",
    "This is a classification problem, in which the outcome variable is a binary value - True or False. For this purpose, we will build a logistic regression model.\n",
    "\n",
    "We will use the function of `scikit-learn` package to build this model.\n",
    "\n",
    "**Can you explain this predictive accraucy of this model?**"
   ]
  },
  {
   "cell_type": "code",
   "execution_count": 30,
   "metadata": {},
   "outputs": [
    {
     "name": "stderr",
     "output_type": "stream",
     "text": [
      "/opt/conda/lib/python3.10/site-packages/sklearn/utils/validation.py:1111: DataConversionWarning: A column-vector y was passed when a 1d array was expected. Please change the shape of y to (n_samples, ), for example using ravel().\n",
      "  y = column_or_1d(y, warn=True)\n"
     ]
    },
    {
     "name": "stdout",
     "output_type": "stream",
     "text": [
      "------------------------------------------\n",
      "Print the model:\n",
      "yr : 0.001232209198998381\n",
      "hum : -0.02934536231170154\n",
      "windspeed : -0.07224766273680963\n",
      "mnth_APR : 0.21939495024227193\n",
      "mnth_AUG : 1.44893565515912\n",
      "mnth_DEZ : -0.8564881154320368\n",
      "mnth_FEB : -2.3301414997239975\n",
      "mnth_JUL : 1.0377054188379287\n",
      "mnth_JUN : 1.9237419386146972\n",
      "mnth_MAR : -0.30149130162376536\n",
      "mnth_MAY : 1.2813950751088834\n",
      "mnth_NOV : -0.3568126406945068\n",
      "mnth_OKT : 0.9718226149890092\n",
      "mnth_SEP : 1.6141679713677874\n",
      "weekday_FRI : 0.1297656352833994\n",
      "weekday_SAT : 0.13247915546795785\n",
      "weekday_SUN : -0.218416821949784\n",
      "weekday_THU : 0.19171306117902986\n",
      "weekday_TUE : 0.2598676875574429\n",
      "weekday_WED : 0.22869883016067893\n",
      "weathersit_MISTY : -0.5659503576722563\n",
      "weathersit_RAIN/SNOW/STORM : -0.8886263175168905\n",
      "------------------------------------------\n",
      "Accuracy of the model is: 0.7551299589603283\n",
      "The confusion matrix is:\n"
     ]
    },
    {
     "name": "stderr",
     "output_type": "stream",
     "text": [
      "/opt/conda/lib/python3.10/site-packages/sklearn/linear_model/_logistic.py:444: ConvergenceWarning: lbfgs failed to converge (status=1):\n",
      "STOP: TOTAL NO. of ITERATIONS REACHED LIMIT.\n",
      "\n",
      "Increase the number of iterations (max_iter) or scale the data as shown in:\n",
      "    https://scikit-learn.org/stable/modules/preprocessing.html\n",
      "Please also refer to the documentation for alternative solver options:\n",
      "    https://scikit-learn.org/stable/modules/linear_model.html#logistic-regression\n",
      "  n_iter_i = _check_optimize_result(\n"
     ]
    },
    {
     "data": {
      "text/plain": [
       "<AxesSubplot:>"
      ]
     },
     "execution_count": 30,
     "metadata": {},
     "output_type": "execute_result"
    },
    {
     "data": {
      "image/png": "[encoded data removed]",
      "text/plain": [
       "<Figure size 576x360 with 2 Axes>"
      ]
     },
     "metadata": {
      "needs_background": "light"
     },
     "output_type": "display_data"
    }
   ],
   "source": [
    "# If daily rental is larger than 4500, it is of Class 'True'. Otherwise, it is in Class 'False'.\n",
    "threshold_bike_rental = 4500\n",
    "\n",
    "X = df_predictors_selected_VIF\n",
    "y = bike_rental_final[['cnt']] > threshold_bike_rental\n",
    "###################\n",
    "\n",
    "logreg = LogisticRegression()\n",
    "logreg.fit(X, y)\n",
    "y_pred=logreg.predict(X)\n",
    "\n",
    "# print the coefficient in the model\n",
    "print(\"------------------------------------------\")\n",
    "print(\"Print the model:\")\n",
    "coef_dict = {}\n",
    "for coef, feat in zip(logreg.coef_.flatten().tolist(),X.columns):\n",
    "    coef_dict[feat] = coef\n",
    "    print(feat, \":\", coef)\n",
    "print(\"------------------------------------------\")\n",
    "    \n",
    "acc = sklearn.metrics.accuracy_score(y,y_pred)\n",
    "print(\"Accuracy of the model is: \" + str(acc))\n",
    "\n",
    "# Another evaluation: confusion matrix\n",
    "print(\"The confusion matrix is:\")\n",
    "cm=confusion_matrix(y,y_pred)\n",
    "conf_matrix=pd.DataFrame(data=cm,columns=['Predicted:0','Predicted:1'],index=['Actual:0','Actual:1'])\n",
    "plt.figure(figsize = (8,5))\n",
    "sn.heatmap(conf_matrix, annot=True,fmt='d',cmap=\"YlGnBu\")"
   ]
  },
  {
   "cell_type": "markdown",
   "metadata": {},
   "source": [
    "The accuracy of this classification is 0.743, meaning that the model can correctly predict 74.3% of the daily bicycle rental regarding whether it is larger than 4500.\n",
    "\n",
    "The confustion matrix shows the number of occurrences in the four combinations between actual and predicted types. For example, there are 289 samples that are correctly predicted as Type 1 (i.e. daily rental over 4,500)."
   ]
  },
  {
   "cell_type": "markdown",
   "metadata": {},
   "source": [
    "## Conclusions\n",
    "\n",
    "1. It is necessary to select variables (e.g. VIF) before building regression models.\n",
    "1. The four conditions of linear regression can be diagnosed via residual plots or statistical tests.\n",
    "1. It is important to interpret the linear regression model based on the R Squared and coefficients."
   ]
  },
  {
   "cell_type": "markdown",
   "metadata": {},
   "source": [
    "## Credits\n",
    "### Contributors:\n",
    "The following individuals have contributed to these teaching materials: Huanfa Chen (huanfa.chen@ucl.ac.uk)\n",
    "\n",
    "### License\n",
    "These teaching materials are licensed under a mix of The MIT License and the Creative Commons Attribution-NonCommercial-ShareAlike 4.0 license.\n",
    "\n",
    "### Acknowledgements\n",
    "This dataset and some analysis is from Chapter 5 of [this online book](https://christophm.github.io/interpretable-ml-book/limo.html#interpretation) written by [Christoph Molnar](https://christophmolnar.com/).\n",
    "\n",
    "### Dependencies\n",
    "This notebook depends on the following libraries: pandas, matplotlib, statsmodels, sklearn"
   ]
  }
 ],
 "metadata": {
  "kernelspec": {
   "display_name": "Python 3.10.5 ('base')",
   "language": "python",
   "name": "python3"
  },
  "language_info": {
   "codemirror_mode": {
    "name": "ipython",
    "version": 3
   },
   "file_extension": ".py",
   "mimetype": "text/x-python",
   "name": "python",
   "nbconvert_exporter": "python",
   "pygments_lexer": "ipython3",
   "version": "3.10.5"
  },
  "toc": {
   "base_numbering": 1,
   "nav_menu": {},
   "number_sections": true,
   "sideBar": true,
   "skip_h1_title": false,
   "title_cell": "Table of Contents",
   "title_sidebar": "Contents",
   "toc_cell": false,
   "toc_position": {
    "height": "calc(100% - 180px)",
    "left": "10px",
    "top": "150px",
    "width": "292.571px"
   },
   "toc_section_display": true,
   "toc_window_display": true
  },
  "vscode": {
   "interpreter": {
    "hash": "d4d1e4263499bec80672ea0156c357c1ee493ec2b1c70f0acce89fc37c4a6abe"
   }
  }
 },
 "nbformat": 4,
 "nbformat_minor": 4
}
